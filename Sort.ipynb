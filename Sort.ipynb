{
 "cells": [
  {
   "cell_type": "code",
   "execution_count": 1,
   "metadata": {},
   "outputs": [
    {
     "name": "stdout",
     "output_type": "stream",
     "text": [
      "0 [25, 21, 22, 24, 23, 27, 26]\n",
      "1 [21, 25, 22, 24, 23, 27, 26]\n",
      "2 [21, 22, 25, 24, 23, 27, 26]\n",
      "3 [21, 22, 24, 25, 23, 27, 26]\n",
      "4 [21, 22, 24, 23, 25, 27, 26]\n",
      "5 [21, 22, 24, 23, 25, 27, 26]\n",
      "6 [21, 22, 24, 23, 25, 26, 27]\n"
     ]
    }
   ],
   "source": [
    "#bubbleSort\n",
    "list = [25,21,22,24,23,27,26]\n",
    "\n",
    "lastElementIndex = len(list) - 1\n",
    "print(0, list)\n",
    "for idx in range(lastElementIndex):\n",
    "    if list[idx] > list[idx + 1]:\n",
    "       list[idx] , list[idx+1] = list[idx+1], list[idx]\n",
    "    print(idx+1, list)"
   ]
  },
  {
   "cell_type": "code",
   "execution_count": null,
   "metadata": {},
   "outputs": [],
   "source": [
    "def BubbleSort(list):\n",
    "    # 리스트에 담긴 데이터를 순서대로 정렬합니다.\n",
    "    lastElementIndex = len(list) - 1\n",
    "    for passNo in range(lastElementIndex, 0, -1):\n",
    "        for idx in range(passNo):\n",
    "            if list[idx] > list[idx+1]:\n",
    "                list[idx], list[idx+1] = list[idx+1],list[idx]\n",
    "    return list"
   ]
  },
  {
   "cell_type": "code",
   "execution_count": 9,
   "metadata": {},
   "outputs": [],
   "source": [
    "#insertionSort\n",
    "def InsertionSort(list):\n",
    "    for i in range(1, len(list)):\n",
    "        j = i - 1\n",
    "        element_next = list[i]\n",
    "        while(list[j] > element_next) and ( j >= 0):\n",
    "            list[j + 1] = list[j]\n",
    "            j = j - 1\n",
    "\n",
    "        list[j+1] = element_next\n",
    "    return list"
   ]
  },
  {
   "cell_type": "code",
   "execution_count": 11,
   "metadata": {},
   "outputs": [
    {
     "name": "stdout",
     "output_type": "stream",
     "text": [
      "[21, 22, 23, 24, 25, 26, 27]\n"
     ]
    }
   ],
   "source": [
    "list = [25,26,22,24,27,23,21]\n",
    "InsertionSort(list)\n",
    "print(list)"
   ]
  },
  {
   "cell_type": "code",
   "execution_count": 31,
   "metadata": {},
   "outputs": [],
   "source": [
    "#mergeSort\n",
    "def MergeSort(list):\n",
    "    if len(list) > 1 :\n",
    "        #리스트를 반으로 나눈다.\n",
    "        mid = len(list)//2\n",
    "        left = list[:mid]\n",
    "        right = list[mid:]\n",
    "\n",
    "        # 나뉜 부분의 크기가 1이 될 때까지 반복합니다.\n",
    "        MergeSort(left)\n",
    "        MergeSort(right)\n",
    "\n",
    "        a=0\n",
    "        b=0\n",
    "        c=0\n",
    "\n",
    "        while a < len(left) and b < len(right):\n",
    "            if left[a] < right[b]:\n",
    "                list[c] = left[a]\n",
    "                a = a + 1\n",
    "            else:\n",
    "                list[c] = right[b]\n",
    "                b = b + 1\n",
    "            c = c + 1\n",
    "        while a < len(left):\n",
    "            list[c]=left[a]\n",
    "            a = a + 1\n",
    "            c = c + 1\n",
    "        while b < len(right):\n",
    "            list[c] = right[b]\n",
    "            b = b + 1\n",
    "            c = c + 1\n",
    "    return list"
   ]
  },
  {
   "cell_type": "code",
   "execution_count": 33,
   "metadata": {},
   "outputs": [
    {
     "name": "stdout",
     "output_type": "stream",
     "text": [
      "[7, 10, 16, 21, 34, 44, 45, 67, 83]\n"
     ]
    }
   ],
   "source": [
    "list = [44, 16, 83, 7, 67, 21, 34, 45, 10]\n",
    "MergeSort(list)\n",
    "print(list)"
   ]
  },
  {
   "cell_type": "code",
   "execution_count": 34,
   "metadata": {},
   "outputs": [],
   "source": [
    "#셀 정렬\n",
    "def ShellSort(list):\n",
    "    distance = len(list)//2\n",
    "    while distance > 0:\n",
    "        for i in range(distance, len(list)):\n",
    "            temp = list[i]\n",
    "            j = i\n",
    "            # 하위 리스트 안에 든 요소들을 정렬한다.\n",
    "            while j >= distance and list[j - distance] > temp:\n",
    "                list[j] = list[j - distance]\n",
    "                j = j - distance\n",
    "            list[j] = temp\n",
    "        \n",
    "        #다음패스를 위해 거리를 반으로 줄인다.\n",
    "        distance = distance//2\n",
    "    return list"
   ]
  },
  {
   "cell_type": "code",
   "execution_count": 36,
   "metadata": {},
   "outputs": [
    {
     "name": "stdout",
     "output_type": "stream",
     "text": [
      "[11, 12, 13, 14, 15, 16, 17, 18, 19, 20, 21, 22, 23, 24, 25, 26]\n"
     ]
    }
   ],
   "source": [
    "list = [26, 17, 20, 11, 23, 21, 13, 18, 24, 14, 12, 22, 16, 15, 19, 25]\n",
    "ShellSort(list)\n",
    "print(list)"
   ]
  },
  {
   "cell_type": "code",
   "execution_count": 37,
   "metadata": {},
   "outputs": [],
   "source": [
    "#선택정렬\n",
    "def SelectionSort(list):\n",
    "    for fill_sort in range(len(list) - 1, 0, -1):\n",
    "        max_index = 0\n",
    "        for location in range(1, fill_sort + 1):\n",
    "            if list[location] > list[max_index]:\n",
    "                max_index = location\n",
    "        list[fill_sort], list[max_index] = list[max_index], list[fill_sort]\n",
    "    return list"
   ]
  },
  {
   "cell_type": "code",
   "execution_count": 38,
   "metadata": {},
   "outputs": [
    {
     "name": "stdout",
     "output_type": "stream",
     "text": [
      "[15, 19, 25, 34, 44, 70]\n"
     ]
    }
   ],
   "source": [
    "list = [15,25,70,19,44,34]\n",
    "SelectionSort(list)\n",
    "print(list)"
   ]
  },
  {
   "cell_type": "markdown",
   "metadata": {},
   "source": [
    "W"
   ]
  }
 ],
 "metadata": {
  "kernelspec": {
   "display_name": "Python 3.11.0 64-bit",
   "language": "python",
   "name": "python3"
  },
  "language_info": {
   "codemirror_mode": {
    "name": "ipython",
    "version": 3
   },
   "file_extension": ".py",
   "mimetype": "text/x-python",
   "name": "python",
   "nbconvert_exporter": "python",
   "pygments_lexer": "ipython3",
   "version": "3.11.0"
  },
  "orig_nbformat": 4,
  "vscode": {
   "interpreter": {
    "hash": "432aee161e31028a8ed5630c53950dd83119aa6dbc1be19d148b1ff6118de509"
   }
  }
 },
 "nbformat": 4,
 "nbformat_minor": 2
}
