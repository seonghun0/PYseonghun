{
 "cells": [
  {
   "cell_type": "code",
   "execution_count": 1,
   "metadata": {},
   "outputs": [],
   "source": [
    "def LinearSearch(list, item):\n",
    "    index = 0\n",
    "    found = False\n",
    "\n",
    "    # 개별 데이터가 조건에 부합하는지 확인\n",
    "    while index < len(list) and found is False:\n",
    "        if list[index] == item :\n",
    "            found = True\n",
    "        else:\n",
    "            index = index + 1\n",
    "    return found"
   ]
  },
  {
   "cell_type": "code",
   "execution_count": 7,
   "metadata": {},
   "outputs": [
    {
     "name": "stdout",
     "output_type": "stream",
     "text": [
      "False\n",
      "True\n"
     ]
    }
   ],
   "source": [
    "list = range(1,1999,2)\n",
    "print(LinearSearch(list, 1222))\n",
    "print(LinearSearch(list, 1445))"
   ]
  },
  {
   "cell_type": "code",
   "execution_count": 8,
   "metadata": {},
   "outputs": [],
   "source": [
    "def BinarySearch(list, item):\n",
    "    first = 0\n",
    "    last = len(list) - 1\n",
    "    found  = False\n",
    "\n",
    "    while first<= last and not found:\n",
    "        midpoint = (first + last)//2\n",
    "        if list[midpoint] == item:\n",
    "            found = True\n",
    "        else:\n",
    "            if item < list[midpoint]:\n",
    "                last = midpoint - 1\n",
    "            else:\n",
    "                first = midpoint + 1\n",
    "    return found"
   ]
  },
  {
   "cell_type": "code",
   "execution_count": 9,
   "metadata": {},
   "outputs": [],
   "source": [
    "def BubbleSort(list):\n",
    "    # 리스트에 담긴 데이터를 순서대로 정렬합니다.\n",
    "    lastElementIndex = len(list) - 1\n",
    "    for passNo in range(lastElementIndex, 0, -1):\n",
    "        for idx in range(passNo):\n",
    "            if list[idx] > list[idx+1]:\n",
    "                list[idx], list[idx+1] = list[idx+1],list[idx]\n",
    "    return list"
   ]
  },
  {
   "cell_type": "code",
   "execution_count": 13,
   "metadata": {},
   "outputs": [
    {
     "name": "stdout",
     "output_type": "stream",
     "text": [
      "[11, 12, 13, 22, 33, 55, 90, 99]\n",
      "True\n",
      "False\n"
     ]
    }
   ],
   "source": [
    "list = [12,13,33,11,99,22,55,90]\n",
    "sorted_list = BubbleSort(list)\n",
    "print(sorted_list)\n",
    "print(BinarySearch(list, 12))\n",
    "print(BinarySearch(list, 91))"
   ]
  },
  {
   "cell_type": "code",
   "execution_count": 14,
   "metadata": {},
   "outputs": [],
   "source": [
    "def IntPolsearch(list, x):\n",
    "    idx0 = 0\n",
    "    idxn = (len(list) - 1)\n",
    "    found = False\n",
    "    while idx0 <= idxn and x >=list[idx0] and x < list[idxn]:\n",
    "\n",
    "        #중간 지점을 확인 한다.\n",
    "        mid = idx0 + int(((float(idxn - idx0)/(list[idxn] - list[idx0])) * (x - list[idx0])))\n",
    "\n",
    "        #검색 대상과 중간지점의 값을 비교한다.\n",
    "        if list[mid] == x:\n",
    "            found = True\n",
    "            return found\n",
    "\n",
    "        if list[mid] < x :\n",
    "            idx0 = mid + 1\n",
    "    return found"
   ]
  },
  {
   "cell_type": "code",
   "execution_count": 15,
   "metadata": {},
   "outputs": [
    {
     "name": "stdout",
     "output_type": "stream",
     "text": [
      "True\n",
      "False\n"
     ]
    }
   ],
   "source": [
    "list = [12,33,11,99,22,55,90]\n",
    "sorted_lsit = BubbleSort(list)\n",
    "print(IntPolsearch(list, 12))\n",
    "print(IntPolsearch(list, 91))"
   ]
  },
  {
   "cell_type": "code",
   "execution_count": null,
   "metadata": {},
   "outputs": [],
   "source": []
  }
 ],
 "metadata": {
  "kernelspec": {
   "display_name": "Python 3.11.0 64-bit",
   "language": "python",
   "name": "python3"
  },
  "language_info": {
   "codemirror_mode": {
    "name": "ipython",
    "version": 3
   },
   "file_extension": ".py",
   "mimetype": "text/x-python",
   "name": "python",
   "nbconvert_exporter": "python",
   "pygments_lexer": "ipython3",
   "version": "3.11.0"
  },
  "orig_nbformat": 4,
  "vscode": {
   "interpreter": {
    "hash": "432aee161e31028a8ed5630c53950dd83119aa6dbc1be19d148b1ff6118de509"
   }
  }
 },
 "nbformat": 4,
 "nbformat_minor": 2
}
